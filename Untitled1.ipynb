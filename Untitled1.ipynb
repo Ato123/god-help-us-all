{
 "cells": [
  {
   "cell_type": "code",
   "execution_count": null,
   "id": "0b1497c7-47d7-4cce-8d38-8f9a2c0ba2ad",
   "metadata": {},
   "outputs": [],
   "source": []
  }
 ],
 "metadata": {
  "kernelspec": {
   "display_name": "Kestrel",
   "language": "kestrel",
   "name": "kestrel"
  },
  "language_info": {
   "name": ""
  }
 },
 "nbformat": 4,
 "nbformat_minor": 5
}
